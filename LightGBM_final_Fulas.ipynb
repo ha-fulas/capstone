{
 "cells": [
  {
   "cell_type": "code",
   "execution_count": 18,
   "metadata": {},
   "outputs": [],
   "source": [
    "## general imports\n",
    "import pandas as pd\n",
    "import numpy as np\n",
    "import os, sys, gc, warnings\n",
    "import matplotlib.pylab as plt\n",
    "import seaborn as sns\n",
    "import missingno as msno\n",
    "warnings.simplefilter(\"ignore\")\n"
   ]
  },
  {
   "cell_type": "code",
   "execution_count": 213,
   "metadata": {},
   "outputs": [
    {
     "data": {
      "text/html": [
       "<div>\n",
       "<style scoped>\n",
       "    .dataframe tbody tr th:only-of-type {\n",
       "        vertical-align: middle;\n",
       "    }\n",
       "\n",
       "    .dataframe tbody tr th {\n",
       "        vertical-align: top;\n",
       "    }\n",
       "\n",
       "    .dataframe thead th {\n",
       "        text-align: right;\n",
       "    }\n",
       "</style>\n",
       "<table border=\"1\" class=\"dataframe\">\n",
       "  <thead>\n",
       "    <tr style=\"text-align: right;\">\n",
       "      <th></th>\n",
       "      <th>TransactionID</th>\n",
       "      <th>isFraud</th>\n",
       "      <th>TransactionDT</th>\n",
       "      <th>TransactionAmt</th>\n",
       "      <th>ProductCD</th>\n",
       "      <th>card1</th>\n",
       "      <th>card2</th>\n",
       "      <th>card3</th>\n",
       "      <th>card4</th>\n",
       "      <th>card5</th>\n",
       "      <th>...</th>\n",
       "      <th>V312</th>\n",
       "      <th>V313</th>\n",
       "      <th>V314</th>\n",
       "      <th>V315</th>\n",
       "      <th>V316</th>\n",
       "      <th>V317</th>\n",
       "      <th>V318</th>\n",
       "      <th>V319</th>\n",
       "      <th>V320</th>\n",
       "      <th>V321</th>\n",
       "    </tr>\n",
       "  </thead>\n",
       "  <tbody>\n",
       "    <tr>\n",
       "      <th>count</th>\n",
       "      <td>5.905400e+05</td>\n",
       "      <td>590540.000000</td>\n",
       "      <td>5.905400e+05</td>\n",
       "      <td>590540.000000</td>\n",
       "      <td>590540</td>\n",
       "      <td>590540.000000</td>\n",
       "      <td>581607.0</td>\n",
       "      <td>588975.0</td>\n",
       "      <td>588963</td>\n",
       "      <td>586281.0</td>\n",
       "      <td>...</td>\n",
       "      <td>590528.0</td>\n",
       "      <td>589271.0</td>\n",
       "      <td>589271.0</td>\n",
       "      <td>589271.0</td>\n",
       "      <td>590528.000000</td>\n",
       "      <td>590528.000000</td>\n",
       "      <td>590528.000000</td>\n",
       "      <td>590528.000000</td>\n",
       "      <td>590528.000000</td>\n",
       "      <td>590528.000000</td>\n",
       "    </tr>\n",
       "    <tr>\n",
       "      <th>unique</th>\n",
       "      <td>NaN</td>\n",
       "      <td>NaN</td>\n",
       "      <td>NaN</td>\n",
       "      <td>NaN</td>\n",
       "      <td>5</td>\n",
       "      <td>NaN</td>\n",
       "      <td>NaN</td>\n",
       "      <td>NaN</td>\n",
       "      <td>4</td>\n",
       "      <td>NaN</td>\n",
       "      <td>...</td>\n",
       "      <td>NaN</td>\n",
       "      <td>NaN</td>\n",
       "      <td>NaN</td>\n",
       "      <td>NaN</td>\n",
       "      <td>NaN</td>\n",
       "      <td>NaN</td>\n",
       "      <td>NaN</td>\n",
       "      <td>NaN</td>\n",
       "      <td>NaN</td>\n",
       "      <td>NaN</td>\n",
       "    </tr>\n",
       "    <tr>\n",
       "      <th>top</th>\n",
       "      <td>NaN</td>\n",
       "      <td>NaN</td>\n",
       "      <td>NaN</td>\n",
       "      <td>NaN</td>\n",
       "      <td>W</td>\n",
       "      <td>NaN</td>\n",
       "      <td>NaN</td>\n",
       "      <td>NaN</td>\n",
       "      <td>visa</td>\n",
       "      <td>NaN</td>\n",
       "      <td>...</td>\n",
       "      <td>NaN</td>\n",
       "      <td>NaN</td>\n",
       "      <td>NaN</td>\n",
       "      <td>NaN</td>\n",
       "      <td>NaN</td>\n",
       "      <td>NaN</td>\n",
       "      <td>NaN</td>\n",
       "      <td>NaN</td>\n",
       "      <td>NaN</td>\n",
       "      <td>NaN</td>\n",
       "    </tr>\n",
       "    <tr>\n",
       "      <th>freq</th>\n",
       "      <td>NaN</td>\n",
       "      <td>NaN</td>\n",
       "      <td>NaN</td>\n",
       "      <td>NaN</td>\n",
       "      <td>439670</td>\n",
       "      <td>NaN</td>\n",
       "      <td>NaN</td>\n",
       "      <td>NaN</td>\n",
       "      <td>384767</td>\n",
       "      <td>NaN</td>\n",
       "      <td>...</td>\n",
       "      <td>NaN</td>\n",
       "      <td>NaN</td>\n",
       "      <td>NaN</td>\n",
       "      <td>NaN</td>\n",
       "      <td>NaN</td>\n",
       "      <td>NaN</td>\n",
       "      <td>NaN</td>\n",
       "      <td>NaN</td>\n",
       "      <td>NaN</td>\n",
       "      <td>NaN</td>\n",
       "    </tr>\n",
       "    <tr>\n",
       "      <th>mean</th>\n",
       "      <td>3.282270e+06</td>\n",
       "      <td>0.034990</td>\n",
       "      <td>7.372311e+06</td>\n",
       "      <td>NaN</td>\n",
       "      <td>NaN</td>\n",
       "      <td>9898.734658</td>\n",
       "      <td>NaN</td>\n",
       "      <td>NaN</td>\n",
       "      <td>NaN</td>\n",
       "      <td>NaN</td>\n",
       "      <td>...</td>\n",
       "      <td>NaN</td>\n",
       "      <td>NaN</td>\n",
       "      <td>NaN</td>\n",
       "      <td>NaN</td>\n",
       "      <td>109.817917</td>\n",
       "      <td>247.600327</td>\n",
       "      <td>162.151230</td>\n",
       "      <td>18.372953</td>\n",
       "      <td>42.073849</td>\n",
       "      <td>28.327173</td>\n",
       "    </tr>\n",
       "    <tr>\n",
       "      <th>std</th>\n",
       "      <td>1.704744e+05</td>\n",
       "      <td>0.183755</td>\n",
       "      <td>4.617224e+06</td>\n",
       "      <td>NaN</td>\n",
       "      <td>NaN</td>\n",
       "      <td>4901.170153</td>\n",
       "      <td>NaN</td>\n",
       "      <td>0.0</td>\n",
       "      <td>NaN</td>\n",
       "      <td>0.0</td>\n",
       "      <td>...</td>\n",
       "      <td>NaN</td>\n",
       "      <td>NaN</td>\n",
       "      <td>NaN</td>\n",
       "      <td>NaN</td>\n",
       "      <td>2269.960449</td>\n",
       "      <td>3979.808105</td>\n",
       "      <td>2792.950928</td>\n",
       "      <td>331.837372</td>\n",
       "      <td>473.217529</td>\n",
       "      <td>381.328247</td>\n",
       "    </tr>\n",
       "    <tr>\n",
       "      <th>min</th>\n",
       "      <td>2.987000e+06</td>\n",
       "      <td>0.000000</td>\n",
       "      <td>8.640000e+04</td>\n",
       "      <td>0.250977</td>\n",
       "      <td>NaN</td>\n",
       "      <td>1000.000000</td>\n",
       "      <td>100.0</td>\n",
       "      <td>100.0</td>\n",
       "      <td>NaN</td>\n",
       "      <td>100.0</td>\n",
       "      <td>...</td>\n",
       "      <td>0.0</td>\n",
       "      <td>0.0</td>\n",
       "      <td>0.0</td>\n",
       "      <td>0.0</td>\n",
       "      <td>0.000000</td>\n",
       "      <td>0.000000</td>\n",
       "      <td>0.000000</td>\n",
       "      <td>0.000000</td>\n",
       "      <td>0.000000</td>\n",
       "      <td>0.000000</td>\n",
       "    </tr>\n",
       "    <tr>\n",
       "      <th>25%</th>\n",
       "      <td>3.134635e+06</td>\n",
       "      <td>0.000000</td>\n",
       "      <td>3.027058e+06</td>\n",
       "      <td>43.312500</td>\n",
       "      <td>NaN</td>\n",
       "      <td>6019.000000</td>\n",
       "      <td>214.0</td>\n",
       "      <td>150.0</td>\n",
       "      <td>NaN</td>\n",
       "      <td>166.0</td>\n",
       "      <td>...</td>\n",
       "      <td>0.0</td>\n",
       "      <td>0.0</td>\n",
       "      <td>0.0</td>\n",
       "      <td>0.0</td>\n",
       "      <td>0.000000</td>\n",
       "      <td>0.000000</td>\n",
       "      <td>0.000000</td>\n",
       "      <td>0.000000</td>\n",
       "      <td>0.000000</td>\n",
       "      <td>0.000000</td>\n",
       "    </tr>\n",
       "    <tr>\n",
       "      <th>50%</th>\n",
       "      <td>3.282270e+06</td>\n",
       "      <td>0.000000</td>\n",
       "      <td>7.306528e+06</td>\n",
       "      <td>68.750000</td>\n",
       "      <td>NaN</td>\n",
       "      <td>9678.000000</td>\n",
       "      <td>361.0</td>\n",
       "      <td>150.0</td>\n",
       "      <td>NaN</td>\n",
       "      <td>226.0</td>\n",
       "      <td>...</td>\n",
       "      <td>0.0</td>\n",
       "      <td>0.0</td>\n",
       "      <td>0.0</td>\n",
       "      <td>0.0</td>\n",
       "      <td>0.000000</td>\n",
       "      <td>0.000000</td>\n",
       "      <td>0.000000</td>\n",
       "      <td>0.000000</td>\n",
       "      <td>0.000000</td>\n",
       "      <td>0.000000</td>\n",
       "    </tr>\n",
       "    <tr>\n",
       "      <th>75%</th>\n",
       "      <td>3.429904e+06</td>\n",
       "      <td>0.000000</td>\n",
       "      <td>1.124662e+07</td>\n",
       "      <td>125.000000</td>\n",
       "      <td>NaN</td>\n",
       "      <td>14184.000000</td>\n",
       "      <td>512.0</td>\n",
       "      <td>150.0</td>\n",
       "      <td>NaN</td>\n",
       "      <td>226.0</td>\n",
       "      <td>...</td>\n",
       "      <td>0.0</td>\n",
       "      <td>0.0</td>\n",
       "      <td>0.0</td>\n",
       "      <td>0.0</td>\n",
       "      <td>0.000000</td>\n",
       "      <td>0.000000</td>\n",
       "      <td>0.000000</td>\n",
       "      <td>0.000000</td>\n",
       "      <td>0.000000</td>\n",
       "      <td>0.000000</td>\n",
       "    </tr>\n",
       "    <tr>\n",
       "      <th>max</th>\n",
       "      <td>3.577539e+06</td>\n",
       "      <td>1.000000</td>\n",
       "      <td>1.581113e+07</td>\n",
       "      <td>31936.000000</td>\n",
       "      <td>NaN</td>\n",
       "      <td>18396.000000</td>\n",
       "      <td>600.0</td>\n",
       "      <td>231.0</td>\n",
       "      <td>NaN</td>\n",
       "      <td>237.0</td>\n",
       "      <td>...</td>\n",
       "      <td>55136.0</td>\n",
       "      <td>4816.0</td>\n",
       "      <td>7520.0</td>\n",
       "      <td>4816.0</td>\n",
       "      <td>93736.000000</td>\n",
       "      <td>134021.000000</td>\n",
       "      <td>98476.000000</td>\n",
       "      <td>104060.000000</td>\n",
       "      <td>104060.000000</td>\n",
       "      <td>104060.000000</td>\n",
       "    </tr>\n",
       "  </tbody>\n",
       "</table>\n",
       "<p>11 rows × 226 columns</p>\n",
       "</div>"
      ],
      "text/plain": [
       "        TransactionID        isFraud  TransactionDT  TransactionAmt ProductCD  \\\n",
       "count    5.905400e+05  590540.000000   5.905400e+05   590540.000000    590540   \n",
       "unique            NaN            NaN            NaN             NaN         5   \n",
       "top               NaN            NaN            NaN             NaN         W   \n",
       "freq              NaN            NaN            NaN             NaN    439670   \n",
       "mean     3.282270e+06       0.034990   7.372311e+06             NaN       NaN   \n",
       "std      1.704744e+05       0.183755   4.617224e+06             NaN       NaN   \n",
       "min      2.987000e+06       0.000000   8.640000e+04        0.250977       NaN   \n",
       "25%      3.134635e+06       0.000000   3.027058e+06       43.312500       NaN   \n",
       "50%      3.282270e+06       0.000000   7.306528e+06       68.750000       NaN   \n",
       "75%      3.429904e+06       0.000000   1.124662e+07      125.000000       NaN   \n",
       "max      3.577539e+06       1.000000   1.581113e+07    31936.000000       NaN   \n",
       "\n",
       "                card1     card2     card3   card4     card5  ...      V312  \\\n",
       "count   590540.000000  581607.0  588975.0  588963  586281.0  ...  590528.0   \n",
       "unique            NaN       NaN       NaN       4       NaN  ...       NaN   \n",
       "top               NaN       NaN       NaN    visa       NaN  ...       NaN   \n",
       "freq              NaN       NaN       NaN  384767       NaN  ...       NaN   \n",
       "mean      9898.734658       NaN       NaN     NaN       NaN  ...       NaN   \n",
       "std       4901.170153       NaN       0.0     NaN       0.0  ...       NaN   \n",
       "min       1000.000000     100.0     100.0     NaN     100.0  ...       0.0   \n",
       "25%       6019.000000     214.0     150.0     NaN     166.0  ...       0.0   \n",
       "50%       9678.000000     361.0     150.0     NaN     226.0  ...       0.0   \n",
       "75%      14184.000000     512.0     150.0     NaN     226.0  ...       0.0   \n",
       "max      18396.000000     600.0     231.0     NaN     237.0  ...   55136.0   \n",
       "\n",
       "            V313      V314      V315           V316           V317  \\\n",
       "count   589271.0  589271.0  589271.0  590528.000000  590528.000000   \n",
       "unique       NaN       NaN       NaN            NaN            NaN   \n",
       "top          NaN       NaN       NaN            NaN            NaN   \n",
       "freq         NaN       NaN       NaN            NaN            NaN   \n",
       "mean         NaN       NaN       NaN     109.817917     247.600327   \n",
       "std          NaN       NaN       NaN    2269.960449    3979.808105   \n",
       "min          0.0       0.0       0.0       0.000000       0.000000   \n",
       "25%          0.0       0.0       0.0       0.000000       0.000000   \n",
       "50%          0.0       0.0       0.0       0.000000       0.000000   \n",
       "75%          0.0       0.0       0.0       0.000000       0.000000   \n",
       "max       4816.0    7520.0    4816.0   93736.000000  134021.000000   \n",
       "\n",
       "                 V318           V319           V320           V321  \n",
       "count   590528.000000  590528.000000  590528.000000  590528.000000  \n",
       "unique            NaN            NaN            NaN            NaN  \n",
       "top               NaN            NaN            NaN            NaN  \n",
       "freq              NaN            NaN            NaN            NaN  \n",
       "mean       162.151230      18.372953      42.073849      28.327173  \n",
       "std       2792.950928     331.837372     473.217529     381.328247  \n",
       "min          0.000000       0.000000       0.000000       0.000000  \n",
       "25%          0.000000       0.000000       0.000000       0.000000  \n",
       "50%          0.000000       0.000000       0.000000       0.000000  \n",
       "75%          0.000000       0.000000       0.000000       0.000000  \n",
       "max      98476.000000  104060.000000  104060.000000  104060.000000  \n",
       "\n",
       "[11 rows x 226 columns]"
      ]
     },
     "execution_count": 213,
     "metadata": {},
     "output_type": "execute_result"
    }
   ],
   "source": [
    "# Load clean data\n",
    "df_final= pd.read_pickle('complete.pkl')\n",
    "df_final.describe(include= 'all')"
   ]
  },
  {
   "cell_type": "code",
   "execution_count": null,
   "metadata": {},
   "outputs": [],
   "source": []
  },
  {
   "cell_type": "code",
   "execution_count": 75,
   "metadata": {},
   "outputs": [],
   "source": [
    "#fillna by -1\n",
    "cols= df_final.columns\n",
    "for col in cols:\n",
    "    df_final[col].fillna(-1,inplace=True)\n"
   ]
  },
  {
   "cell_type": "markdown",
   "metadata": {},
   "source": [
    "## Make sure all categorical features are actually of category dtype"
   ]
  },
  {
   "cell_type": "code",
   "execution_count": 157,
   "metadata": {},
   "outputs": [
    {
     "data": {
      "text/html": [
       "<div>\n",
       "<style scoped>\n",
       "    .dataframe tbody tr th:only-of-type {\n",
       "        vertical-align: middle;\n",
       "    }\n",
       "\n",
       "    .dataframe tbody tr th {\n",
       "        vertical-align: top;\n",
       "    }\n",
       "\n",
       "    .dataframe thead th {\n",
       "        text-align: right;\n",
       "    }\n",
       "</style>\n",
       "<table border=\"1\" class=\"dataframe\">\n",
       "  <thead>\n",
       "    <tr style=\"text-align: right;\">\n",
       "      <th></th>\n",
       "      <th>ProductCD</th>\n",
       "      <th>card4</th>\n",
       "      <th>card6</th>\n",
       "      <th>P_emaildomain</th>\n",
       "      <th>M1</th>\n",
       "      <th>M2</th>\n",
       "      <th>M3</th>\n",
       "      <th>M4</th>\n",
       "      <th>M5</th>\n",
       "      <th>M6</th>\n",
       "      <th>M7</th>\n",
       "      <th>M8</th>\n",
       "      <th>M9</th>\n",
       "    </tr>\n",
       "  </thead>\n",
       "  <tbody>\n",
       "    <tr>\n",
       "      <th>count</th>\n",
       "      <td>590538</td>\n",
       "      <td>588961</td>\n",
       "      <td>588967</td>\n",
       "      <td>496082</td>\n",
       "      <td>319438</td>\n",
       "      <td>319438</td>\n",
       "      <td>319438</td>\n",
       "      <td>309096</td>\n",
       "      <td>240058</td>\n",
       "      <td>421180</td>\n",
       "      <td>244273</td>\n",
       "      <td>244286</td>\n",
       "      <td>244286</td>\n",
       "    </tr>\n",
       "    <tr>\n",
       "      <th>unique</th>\n",
       "      <td>5</td>\n",
       "      <td>4</td>\n",
       "      <td>4</td>\n",
       "      <td>59</td>\n",
       "      <td>2</td>\n",
       "      <td>2</td>\n",
       "      <td>2</td>\n",
       "      <td>3</td>\n",
       "      <td>2</td>\n",
       "      <td>2</td>\n",
       "      <td>2</td>\n",
       "      <td>2</td>\n",
       "      <td>2</td>\n",
       "    </tr>\n",
       "    <tr>\n",
       "      <th>top</th>\n",
       "      <td>W</td>\n",
       "      <td>visa</td>\n",
       "      <td>debit</td>\n",
       "      <td>gmail.com</td>\n",
       "      <td>T</td>\n",
       "      <td>T</td>\n",
       "      <td>T</td>\n",
       "      <td>M0</td>\n",
       "      <td>F</td>\n",
       "      <td>F</td>\n",
       "      <td>F</td>\n",
       "      <td>F</td>\n",
       "      <td>T</td>\n",
       "    </tr>\n",
       "    <tr>\n",
       "      <th>freq</th>\n",
       "      <td>439668</td>\n",
       "      <td>384767</td>\n",
       "      <td>439938</td>\n",
       "      <td>228355</td>\n",
       "      <td>319413</td>\n",
       "      <td>285466</td>\n",
       "      <td>251729</td>\n",
       "      <td>196405</td>\n",
       "      <td>132491</td>\n",
       "      <td>227856</td>\n",
       "      <td>211372</td>\n",
       "      <td>155249</td>\n",
       "      <td>205654</td>\n",
       "    </tr>\n",
       "  </tbody>\n",
       "</table>\n",
       "</div>"
      ],
      "text/plain": [
       "       ProductCD   card4   card6 P_emaildomain      M1      M2      M3  \\\n",
       "count     590538  588961  588967        496082  319438  319438  319438   \n",
       "unique         5       4       4            59       2       2       2   \n",
       "top            W    visa   debit     gmail.com       T       T       T   \n",
       "freq      439668  384767  439938        228355  319413  285466  251729   \n",
       "\n",
       "            M4      M5      M6      M7      M8      M9  \n",
       "count   309096  240058  421180  244273  244286  244286  \n",
       "unique       3       2       2       2       2       2  \n",
       "top         M0       F       F       F       F       T  \n",
       "freq    196405  132491  227856  211372  155249  205654  "
      ]
     },
     "execution_count": 157,
     "metadata": {},
     "output_type": "execute_result"
    }
   ],
   "source": [
    "# convert categorical features to a format that lightGBM understands (object to category)\n",
    "#vars =['P_emaildomain', 'addr1', 'addr2','card1','card2', 'card3', 'card5','M1', 'M2', 'M3', 'M4', 'M5', 'M6', 'M7', 'M8', 'M9', 'card4','card6', 'ProductCD']\n",
    "\n",
    "for c in df_final.columns:\n",
    "    col_type = df_final[c].dtype\n",
    "    if col_type == 'object' or col_type.name == 'category':\n",
    "        df_final[c] = df_final[c].astype('category')\n",
    "        \n",
    "# In the data description the features in cats are reported as categorical data with numbers as values\n",
    "# convert them back to category\n",
    "\n",
    "#cats= ['addr1', 'addr2', 'card1', 'card2', 'card3', 'card5']\n",
    "#for col in cats:\n",
    "    #df_final[cats]=df_final[cats].astype('category')\n",
    "    \n",
    "# check if all categorical features are dtype= category\n",
    "df_final.describe(include =['category'])"
   ]
  },
  {
   "cell_type": "markdown",
   "metadata": {},
   "source": [
    "## Model training\n"
   ]
  },
  {
   "cell_type": "code",
   "execution_count": 158,
   "metadata": {},
   "outputs": [],
   "source": [
    "# Splitting the dataset into the Training, Validation and Test set\n",
    "# drop TransactionID since it is an index and doesn't add any value to the model\n",
    "\n",
    "from sklearn.model_selection import train_test_split, KFold\n",
    "\n",
    "X = df_final.drop(['isFraud', 'TransactionID', 'TransactionDT'], axis =1 )\n",
    "y = df_final['isFraud']\n",
    "x_train, x_test, y_train, y_test = train_test_split(X, y, test_size = 0.20, random_state = 42, stratify = y, shuffle = True)"
   ]
  },
  {
   "cell_type": "code",
   "execution_count": 159,
   "metadata": {},
   "outputs": [
    {
     "name": "stdout",
     "output_type": "stream",
     "text": [
      "(472430, 223) (472430,)\n",
      "(118108, 223) (118108,)\n"
     ]
    }
   ],
   "source": [
    "# train_validation_test set shapes\n",
    "\n",
    "print(x_train.shape, y_train.shape)\n",
    "print(x_test.shape, y_test.shape)"
   ]
  },
  {
   "cell_type": "code",
   "execution_count": 160,
   "metadata": {},
   "outputs": [
    {
     "data": {
      "text/plain": [
       "0    455900\n",
       "1     16530\n",
       "Name: isFraud, dtype: int64"
      ]
     },
     "execution_count": 160,
     "metadata": {},
     "output_type": "execute_result"
    }
   ],
   "source": [
    "y_train.value_counts()\n"
   ]
  },
  {
   "cell_type": "code",
   "execution_count": 161,
   "metadata": {},
   "outputs": [
    {
     "data": {
      "text/plain": [
       "0    113975\n",
       "1      4133\n",
       "Name: isFraud, dtype: int64"
      ]
     },
     "execution_count": 161,
     "metadata": {},
     "output_type": "execute_result"
    }
   ],
   "source": [
    "y_test.value_counts()"
   ]
  },
  {
   "cell_type": "code",
   "execution_count": 162,
   "metadata": {},
   "outputs": [
    {
     "data": {
      "text/plain": [
       "350"
      ]
     },
     "execution_count": 162,
     "metadata": {},
     "output_type": "execute_result"
    }
   ],
   "source": [
    "gc.collect()"
   ]
  },
  {
   "cell_type": "markdown",
   "metadata": {},
   "source": [
    "## Model Training"
   ]
  },
  {
   "cell_type": "code",
   "execution_count": 216,
   "metadata": {},
   "outputs": [
    {
     "name": "stdout",
     "output_type": "stream",
     "text": [
      "Training until validation scores don't improve for 100 rounds\n",
      "[100]\tvalid_0's auc: 0.899278\n",
      "[200]\tvalid_0's auc: 0.915685\n",
      "[300]\tvalid_0's auc: 0.923668\n",
      "[400]\tvalid_0's auc: 0.929146\n",
      "[500]\tvalid_0's auc: 0.933357\n",
      "[600]\tvalid_0's auc: 0.936267\n",
      "[700]\tvalid_0's auc: 0.93872\n",
      "[800]\tvalid_0's auc: 0.940602\n",
      "[900]\tvalid_0's auc: 0.942228\n",
      "[1000]\tvalid_0's auc: 0.943602\n",
      "[1100]\tvalid_0's auc: 0.944762\n",
      "[1200]\tvalid_0's auc: 0.945842\n",
      "[1300]\tvalid_0's auc: 0.947007\n",
      "[1400]\tvalid_0's auc: 0.947857\n",
      "[1500]\tvalid_0's auc: 0.948654\n",
      "[1600]\tvalid_0's auc: 0.949273\n",
      "[1700]\tvalid_0's auc: 0.949954\n",
      "[1800]\tvalid_0's auc: 0.950426\n",
      "[1900]\tvalid_0's auc: 0.950989\n",
      "[2000]\tvalid_0's auc: 0.951462\n",
      "Did not meet early stopping. Best iteration is:\n",
      "[1994]\tvalid_0's auc: 0.951469\n",
      "Training until validation scores don't improve for 100 rounds\n",
      "[100]\tvalid_0's auc: 0.895034\n",
      "[200]\tvalid_0's auc: 0.912164\n",
      "[300]\tvalid_0's auc: 0.920546\n",
      "[400]\tvalid_0's auc: 0.925943\n",
      "[500]\tvalid_0's auc: 0.930184\n",
      "[600]\tvalid_0's auc: 0.933431\n",
      "[700]\tvalid_0's auc: 0.935522\n",
      "[800]\tvalid_0's auc: 0.937556\n",
      "[900]\tvalid_0's auc: 0.939038\n",
      "[1000]\tvalid_0's auc: 0.940458\n",
      "[1100]\tvalid_0's auc: 0.941637\n",
      "[1200]\tvalid_0's auc: 0.942759\n",
      "[1300]\tvalid_0's auc: 0.94375\n",
      "[1400]\tvalid_0's auc: 0.944605\n",
      "[1500]\tvalid_0's auc: 0.945424\n",
      "[1600]\tvalid_0's auc: 0.946258\n",
      "[1700]\tvalid_0's auc: 0.94699\n",
      "[1800]\tvalid_0's auc: 0.947626\n",
      "[1900]\tvalid_0's auc: 0.948134\n",
      "[2000]\tvalid_0's auc: 0.948749\n",
      "Did not meet early stopping. Best iteration is:\n",
      "[1999]\tvalid_0's auc: 0.948751\n",
      "Training until validation scores don't improve for 100 rounds\n",
      "[100]\tvalid_0's auc: 0.890749\n",
      "[200]\tvalid_0's auc: 0.907992\n",
      "[300]\tvalid_0's auc: 0.916577\n",
      "[400]\tvalid_0's auc: 0.922479\n",
      "[500]\tvalid_0's auc: 0.926736\n",
      "[600]\tvalid_0's auc: 0.92982\n",
      "[700]\tvalid_0's auc: 0.932549\n",
      "[800]\tvalid_0's auc: 0.93473\n",
      "[900]\tvalid_0's auc: 0.936556\n",
      "[1000]\tvalid_0's auc: 0.938136\n",
      "[1100]\tvalid_0's auc: 0.939475\n",
      "[1200]\tvalid_0's auc: 0.940758\n",
      "[1300]\tvalid_0's auc: 0.941893\n",
      "[1400]\tvalid_0's auc: 0.942921\n",
      "[1500]\tvalid_0's auc: 0.943768\n",
      "[1600]\tvalid_0's auc: 0.94457\n",
      "[1700]\tvalid_0's auc: 0.945441\n",
      "[1800]\tvalid_0's auc: 0.946077\n",
      "[1900]\tvalid_0's auc: 0.946695\n",
      "[2000]\tvalid_0's auc: 0.947274\n",
      "Did not meet early stopping. Best iteration is:\n",
      "[2000]\tvalid_0's auc: 0.947274\n",
      "Training until validation scores don't improve for 100 rounds\n",
      "[100]\tvalid_0's auc: 0.890196\n",
      "[200]\tvalid_0's auc: 0.90828\n",
      "[300]\tvalid_0's auc: 0.917921\n",
      "[400]\tvalid_0's auc: 0.924104\n",
      "[500]\tvalid_0's auc: 0.928405\n",
      "[600]\tvalid_0's auc: 0.931516\n",
      "[700]\tvalid_0's auc: 0.934161\n",
      "[800]\tvalid_0's auc: 0.93633\n",
      "[900]\tvalid_0's auc: 0.938284\n",
      "[1000]\tvalid_0's auc: 0.939734\n",
      "[1100]\tvalid_0's auc: 0.94104\n",
      "[1200]\tvalid_0's auc: 0.942138\n",
      "[1300]\tvalid_0's auc: 0.943295\n",
      "[1400]\tvalid_0's auc: 0.944155\n",
      "[1500]\tvalid_0's auc: 0.945102\n",
      "[1600]\tvalid_0's auc: 0.945843\n",
      "[1700]\tvalid_0's auc: 0.94654\n",
      "[1800]\tvalid_0's auc: 0.947117\n",
      "[1900]\tvalid_0's auc: 0.947875\n",
      "[2000]\tvalid_0's auc: 0.948513\n",
      "Did not meet early stopping. Best iteration is:\n",
      "[1998]\tvalid_0's auc: 0.948514\n",
      "Training until validation scores don't improve for 100 rounds\n",
      "[100]\tvalid_0's auc: 0.899571\n",
      "[200]\tvalid_0's auc: 0.916836\n",
      "[300]\tvalid_0's auc: 0.925236\n",
      "[400]\tvalid_0's auc: 0.930775\n",
      "[500]\tvalid_0's auc: 0.934758\n",
      "[600]\tvalid_0's auc: 0.937555\n",
      "[700]\tvalid_0's auc: 0.939946\n",
      "[800]\tvalid_0's auc: 0.942272\n",
      "[900]\tvalid_0's auc: 0.943884\n",
      "[1000]\tvalid_0's auc: 0.945357\n",
      "[1100]\tvalid_0's auc: 0.946762\n",
      "[1200]\tvalid_0's auc: 0.947792\n",
      "[1300]\tvalid_0's auc: 0.948684\n",
      "[1400]\tvalid_0's auc: 0.94957\n",
      "[1500]\tvalid_0's auc: 0.950323\n",
      "[1600]\tvalid_0's auc: 0.951155\n",
      "[1700]\tvalid_0's auc: 0.951816\n",
      "[1800]\tvalid_0's auc: 0.952452\n",
      "[1900]\tvalid_0's auc: 0.953073\n",
      "[2000]\tvalid_0's auc: 0.953549\n",
      "Did not meet early stopping. Best iteration is:\n",
      "[2000]\tvalid_0's auc: 0.953549\n"
     ]
    },
    {
     "data": {
      "image/png": "[encoded data removed]",
      "text/plain": [
       "<Figure size 576x576 with 1 Axes>"
      ]
     },
     "metadata": {
      "needs_background": "light"
     },
     "output_type": "display_data"
    }
   ],
   "source": [
    "# Run classifier with cross-validation and plot ROC curves\n",
    "import numpy as np\n",
    "from scipy import interp\n",
    "from sklearn.metrics import roc_curve, auc\n",
    "\n",
    "params = {'max_depth': -1,\n",
    "              'random_state': 42,\n",
    "               'learning_rate':0.03,\n",
    "              'boosting_type': \"gbdt\",\n",
    "              'metric':'auc',\n",
    "              'max_bin': 100,\n",
    "                'num_leaves': 100,\n",
    "               'min_data_in_leaf':5000, \n",
    "               'objective':'binary',\n",
    "                'colsample_bytree': 0.5,\n",
    "              'n_estimators': 2000,\n",
    "                'feature_fraction': 0.5,\n",
    "                'is_unbalance ' : True,\n",
    "                'bagging_fraction':0.5,\n",
    "              'categorical_feature':['P_emaildomain', 'M1', 'M2', 'M3', 'M4', 'M5', 'M6', 'M7', 'M8', 'M9', 'card4','card6', 'ProductCD']\n",
    "\n",
    "                                            }\n",
    "\n",
    "cv = StratifiedKFold(n_splits=5, random_state= 42, shuffle= True)\n",
    "classifier = LGBMClassifier(**params)\n",
    "\n",
    "tprs = []\n",
    "aucs = []\n",
    "mean_fpr = np.linspace(0, 1, 100)\n",
    "plt.figure(figsize=(8, 8))\n",
    "\n",
    "\n",
    "i = 0\n",
    "for trn_idx, val_idx in cv.split(x_train, y_train):\n",
    "    x_trn, x_val = x_train.iloc[trn_idx, :], x_train.iloc[val_idx, :]\n",
    "    y_trn, y_val = y_train.iloc[trn_idx], y_train.iloc[val_idx]\n",
    "    model= classifier.fit(x_trn, y_trn, eval_set=[(x_val, y_val)], early_stopping_rounds = 100, verbose = 100)\n",
    "    probas_ = model.predict_proba(x_val)\n",
    "    # Compute ROC curve and area the curve\n",
    "    fpr, tpr, thresholds = roc_curve(y_val, probas_[:, 1])\n",
    "    tprs.append(interp(mean_fpr, fpr, tpr))\n",
    "    tprs[-1][0] = 0.0\n",
    "    roc_auc = auc(fpr, tpr)\n",
    "    aucs.append(roc_auc)\n",
    "    plt.plot(fpr, tpr, lw=1, alpha=0.3,\n",
    "             label='ROC fold %d (AUC = %0.2f)' % (i, roc_auc))\n",
    "\n",
    "    i += 1\n",
    "plt.plot([0, 1], [0, 1], linestyle='--', lw=2, color='r',\n",
    "         label='Chance', alpha=.8)\n",
    "\n",
    "mean_tpr = np.mean(tprs, axis=0)\n",
    "mean_tpr[-1] = 1.0\n",
    "mean_auc = auc(mean_fpr, mean_tpr)\n",
    "std_auc = np.std(aucs)\n",
    "plt.plot(mean_fpr, mean_tpr, color='b',\n",
    "         label=r'Mean ROC (AUC = %0.2f $\\pm$ %0.2f)' % (mean_auc, std_auc),\n",
    "         lw=2, alpha=.8)\n",
    "\n",
    "std_tpr = np.std(tprs, axis=0)\n",
    "tprs_upper = np.minimum(mean_tpr + std_tpr, 1)\n",
    "tprs_lower = np.maximum(mean_tpr - std_tpr, 0)\n",
    "plt.fill_between(mean_fpr, tprs_lower, tprs_upper, color='grey', alpha=.2,\n",
    "                 label=r'$\\pm$ 1 std. dev.')\n",
    "\n",
    "plt.xlim([-0.05, 1.05])\n",
    "plt.ylim([-0.05, 1.05])\n",
    "plt.xlabel('False Positive Rate')\n",
    "plt.ylabel('True Positive Rate')\n",
    "plt.title('Receiver operating characteristic _LightGBM')\n",
    "plt.legend(loc=\"lower right\")\n",
    "plt.show()"
   ]
  },
  {
   "cell_type": "markdown",
   "metadata": {},
   "source": [
    "## Prediction using parameters from best iteration"
   ]
  },
  {
   "cell_type": "code",
   "execution_count": 217,
   "metadata": {},
   "outputs": [
    {
     "name": "stdout",
     "output_type": "stream",
     "text": [
      "Best Iteration: 2000\n"
     ]
    }
   ],
   "source": [
    "\n",
    "#Extracting the best iteration\n",
    "#best_iteration = model.get_booster ().best_iteration\n",
    "print ('Best Iteration: {}'.format (model.best_iteration_))\n",
    "## model fit with the best parameters\n",
    "#best_model= model.fit(x_train, y_train)"
   ]
  },
  {
   "cell_type": "code",
   "execution_count": 218,
   "metadata": {},
   "outputs": [
    {
     "data": {
      "text/plain": [
       "array([0., 0., 0., 0., 0.])"
      ]
     },
     "execution_count": 218,
     "metadata": {},
     "output_type": "execute_result"
    }
   ],
   "source": [
    "# prediction\n",
    "y_preds = model.predict_proba(x_test, num_iteration= model.best_iteration_)[:, 1]\n",
    "#convert into binary values\n",
    "\n",
    "for i in range(0,len(y_test)):\n",
    "    if y_preds[i]>=.4:       # setting threshold to .5\n",
    "       y_preds[i]=1\n",
    "    else:  \n",
    "       y_preds[i]=0\n",
    "y_preds[0:5]  # showing first 5 prediction"
   ]
  },
  {
   "cell_type": "code",
   "execution_count": 219,
   "metadata": {},
   "outputs": [
    {
     "name": "stdout",
     "output_type": "stream",
     "text": [
      "[[113621    354]\n",
      " [  1847   2286]]\n",
      "              precision    recall  f1-score   support\n",
      "\n",
      "           0       0.98      1.00      0.99    113975\n",
      "           1       0.87      0.55      0.68      4133\n",
      "\n",
      "    accuracy                           0.98    118108\n",
      "   macro avg       0.92      0.78      0.83    118108\n",
      "weighted avg       0.98      0.98      0.98    118108\n",
      "\n",
      "ROC_AUC: 0.7750015887086676\n"
     ]
    }
   ],
   "source": [
    "#Printing the classification report\n",
    "from sklearn.metrics import classification_report, confusion_matrix\n",
    "print(confusion_matrix(y_test, y_preds))\n",
    "print(classification_report (y_test, y_preds))\n",
    "auc = roc_auc_score(y_test,y_preds)\n",
    "print(f'ROC_AUC: {auc}')"
   ]
  },
  {
   "cell_type": "code",
   "execution_count": 243,
   "metadata": {},
   "outputs": [
    {
     "name": "stdout",
     "output_type": "stream",
     "text": [
      "lgb: f1=0.651 pr_auc=0.717\n"
     ]
    },
    {
     "data": {
      "image/png": "[encoded data removed]",
      "text/plain": [
       "<Figure size 576x576 with 1 Axes>"
      ]
     },
     "metadata": {
      "needs_background": "light"
     },
     "output_type": "display_data"
    }
   ],
   "source": [
    "# calculate precision-recall curve\n",
    "from sklearn.metrics import f1_score, auc, roc_curve, roc_auc_score, accuracy_score, precision_recall_curve\n",
    "\n",
    "lgb_precision, lgb_recall, _ = precision_recall_curve(y_test, y_preds)\n",
    "lgb_f1, lgb_auc = f1_score(y_test, y_pred), auc(lgb_recall, lgb_precision)\n",
    "print('lgb: f1=%.3f pr_auc=%.3f' % (lgb_f1, lgb_auc))\n",
    "plt.figure(figsize= (8,8))\n",
    "plt.plot(lgb_recall, lgb_precision, marker='.', label='f1=%.3f, PR_AUC=%.3f' % (lgb_f1, lgb_auc))\n",
    "# axis labels\n",
    "plt.xlabel('Recall')\n",
    "plt.ylabel('Precision')\n",
    "# show the legend\n",
    "plt.legend()\n",
    "# show the plot\n",
    "plt.show()"
   ]
  },
  {
   "cell_type": "code",
   "execution_count": 244,
   "metadata": {},
   "outputs": [
    {
     "data": {
      "image/png": "[encoded data removed]",
      "text/plain": [
       "<Figure size 576x576 with 1 Axes>"
      ]
     },
     "metadata": {
      "needs_background": "light"
     },
     "output_type": "display_data"
    }
   ],
   "source": [
    "# calculate and print the roc curve\n",
    "lgbm_fpr, lgbm_tpr, _ = roc_curve(y_test, y_preds)\n",
    "lgbm_auc = auc(lgbm_fpr, lgbm_tpr)\n",
    "plt.figure(figsize= (8,8))\n",
    "plt.plot(lgbm_fpr, lgbm_tpr, label='AUC=%.3f' % (lgbm_auc))\n",
    "plt.xlabel('False Positive Rate')\n",
    "plt.ylabel('True Positive Rate')\n",
    "plt.legend()\n",
    "plt.show()"
   ]
  },
  {
   "cell_type": "code",
   "execution_count": 245,
   "metadata": {},
   "outputs": [
    {
     "data": {
      "image/png": "[encoded data removed]",
      "text/plain": [
       "<Figure size 1440x720 with 1 Axes>"
      ]
     },
     "metadata": {
      "needs_background": "light"
     },
     "output_type": "display_data"
    }
   ],
   "source": [
    "import seaborn as sns\n",
    "cols = list( x_train.columns )\n",
    "feature_imp = pd.DataFrame(sorted(zip(model.feature_importances_,cols)), columns=['Value','Feature'])\n",
    "plt.figure(figsize=(20, 10))\n",
    "b=sns.barplot(x=\"Value\", y=\"Feature\", data=feature_imp.sort_values(by=\"Value\", ascending=False).iloc[:20])\n",
    "b.set_xlabel(\"Value\",fontsize=30)\n",
    "b.set_ylabel(\"Feature\",fontsize=30)\n",
    "b.tick_params(labelsize=18)\n",
    "plt.title('LGBM 20 Most Important', fontsize= 30)\n",
    "plt.tight_layout()\n",
    "plt.show()"
   ]
  },
  {
   "cell_type": "markdown",
   "metadata": {},
   "source": [
    "## Random Undersampling"
   ]
  },
  {
   "cell_type": "code",
   "execution_count": 226,
   "metadata": {},
   "outputs": [
    {
     "data": {
      "text/plain": [
       "0    455900\n",
       "1     16530\n",
       "Name: isFraud, dtype: int64"
      ]
     },
     "execution_count": 226,
     "metadata": {},
     "output_type": "execute_result"
    }
   ],
   "source": [
    "train= pd.concat([x_train, y_train], axis =1)\n",
    "train.head(10)\n",
    "train.isFraud.value_counts()\n"
   ]
  },
  {
   "cell_type": "code",
   "execution_count": null,
   "metadata": {},
   "outputs": [],
   "source": []
  },
  {
   "cell_type": "code",
   "execution_count": 227,
   "metadata": {},
   "outputs": [],
   "source": [
    "# Class count\n",
    "count_class_0, count_class_1 = train.isFraud.value_counts()\n",
    "\n",
    "# Divide by class\n",
    "df_class_0 = train[train['isFraud'] == 0]\n",
    "df_class_1 = train[train['isFraud'] == 1]"
   ]
  },
  {
   "cell_type": "code",
   "execution_count": 228,
   "metadata": {},
   "outputs": [
    {
     "name": "stdout",
     "output_type": "stream",
     "text": [
      "Random under-sampling:\n",
      "1    16530\n",
      "0    16530\n",
      "Name: isFraud, dtype: int64\n"
     ]
    },
    {
     "data": {
      "image/png": "[encoded data removed]",
      "text/plain": [
       "<Figure size 432x288 with 1 Axes>"
      ]
     },
     "metadata": {
      "needs_background": "light"
     },
     "output_type": "display_data"
    }
   ],
   "source": [
    "df_class_0_under = df_class_0.sample(count_class_1)\n",
    "df_train_under = pd.concat([df_class_0_under, df_class_1], axis=0)\n",
    "\n",
    "print('Random under-sampling:')\n",
    "print(df_train_under.isFraud.value_counts())\n",
    "\n",
    "df_train_under.isFraud.value_counts().plot(kind='bar', title='Count (isFraud)');"
   ]
  },
  {
   "cell_type": "code",
   "execution_count": 173,
   "metadata": {},
   "outputs": [
    {
     "name": "stdout",
     "output_type": "stream",
     "text": [
      "<class 'pandas.core.frame.DataFrame'>\n",
      "Int64Index: 33060 entries, 552553 to 443417\n",
      "Columns: 224 entries, TransactionAmt to isFraud\n",
      "dtypes: category(13), float16(191), float32(18), int16(1), int8(1)\n",
      "memory usage: 15.1 MB\n"
     ]
    }
   ],
   "source": [
    "df_train_under.info()"
   ]
  },
  {
   "cell_type": "code",
   "execution_count": 229,
   "metadata": {},
   "outputs": [],
   "source": [
    "# Splitting the dataset into the Training, Validation and Test set\n",
    "# drop TransactionID since it is an index and doesn't add any value to the model\n",
    "\n",
    "from sklearn.model_selection import train_test_split, KFold, TimeSeriesSplit\n",
    "\n",
    "x_train_u = df_train_under.drop(['isFraud'], axis =1 )\n",
    "y_train_u = df_train_under['isFraud']\n"
   ]
  },
  {
   "cell_type": "markdown",
   "metadata": {},
   "source": [
    "## model training"
   ]
  },
  {
   "cell_type": "code",
   "execution_count": 233,
   "metadata": {},
   "outputs": [
    {
     "name": "stdout",
     "output_type": "stream",
     "text": [
      "Training until validation scores don't improve for 100 rounds\n",
      "[100]\tvalid_0's auc: 0.840194\n",
      "[200]\tvalid_0's auc: 0.853756\n",
      "[300]\tvalid_0's auc: 0.860318\n",
      "[400]\tvalid_0's auc: 0.864537\n",
      "[500]\tvalid_0's auc: 0.867473\n",
      "[600]\tvalid_0's auc: 0.869869\n",
      "[700]\tvalid_0's auc: 0.871986\n",
      "[800]\tvalid_0's auc: 0.873897\n",
      "[900]\tvalid_0's auc: 0.875541\n",
      "[1000]\tvalid_0's auc: 0.87699\n",
      "[1100]\tvalid_0's auc: 0.878142\n",
      "[1200]\tvalid_0's auc: 0.879127\n",
      "[1300]\tvalid_0's auc: 0.87997\n",
      "[1400]\tvalid_0's auc: 0.880628\n",
      "[1500]\tvalid_0's auc: 0.881394\n",
      "[1600]\tvalid_0's auc: 0.881986\n",
      "[1700]\tvalid_0's auc: 0.882631\n",
      "[1800]\tvalid_0's auc: 0.883188\n",
      "[1900]\tvalid_0's auc: 0.883739\n",
      "[2000]\tvalid_0's auc: 0.884188\n",
      "Did not meet early stopping. Best iteration is:\n",
      "[1999]\tvalid_0's auc: 0.884195\n",
      "Training until validation scores don't improve for 100 rounds\n",
      "[100]\tvalid_0's auc: 0.839166\n",
      "[200]\tvalid_0's auc: 0.849408\n",
      "[300]\tvalid_0's auc: 0.856207\n",
      "[400]\tvalid_0's auc: 0.859967\n",
      "[500]\tvalid_0's auc: 0.863399\n",
      "[600]\tvalid_0's auc: 0.866082\n",
      "[700]\tvalid_0's auc: 0.868326\n",
      "[800]\tvalid_0's auc: 0.870091\n",
      "[900]\tvalid_0's auc: 0.871626\n",
      "[1000]\tvalid_0's auc: 0.872982\n",
      "[1100]\tvalid_0's auc: 0.87415\n",
      "[1200]\tvalid_0's auc: 0.875057\n",
      "[1300]\tvalid_0's auc: 0.875841\n",
      "[1400]\tvalid_0's auc: 0.876683\n",
      "[1500]\tvalid_0's auc: 0.877359\n",
      "[1600]\tvalid_0's auc: 0.877937\n",
      "[1700]\tvalid_0's auc: 0.878596\n",
      "[1800]\tvalid_0's auc: 0.879207\n",
      "[1900]\tvalid_0's auc: 0.879749\n",
      "[2000]\tvalid_0's auc: 0.880288\n",
      "Did not meet early stopping. Best iteration is:\n",
      "[2000]\tvalid_0's auc: 0.880288\n",
      "Training until validation scores don't improve for 100 rounds\n",
      "[100]\tvalid_0's auc: 0.84066\n",
      "[200]\tvalid_0's auc: 0.853031\n",
      "[300]\tvalid_0's auc: 0.859788\n",
      "[400]\tvalid_0's auc: 0.863743\n",
      "[500]\tvalid_0's auc: 0.866984\n",
      "[600]\tvalid_0's auc: 0.869662\n",
      "[700]\tvalid_0's auc: 0.871755\n",
      "[800]\tvalid_0's auc: 0.873589\n",
      "[900]\tvalid_0's auc: 0.875159\n",
      "[1000]\tvalid_0's auc: 0.876473\n",
      "[1100]\tvalid_0's auc: 0.877602\n",
      "[1200]\tvalid_0's auc: 0.87864\n",
      "[1300]\tvalid_0's auc: 0.879636\n",
      "[1400]\tvalid_0's auc: 0.880478\n",
      "[1500]\tvalid_0's auc: 0.881218\n",
      "[1600]\tvalid_0's auc: 0.881977\n",
      "[1700]\tvalid_0's auc: 0.882722\n",
      "[1800]\tvalid_0's auc: 0.883426\n",
      "[1900]\tvalid_0's auc: 0.88392\n",
      "[2000]\tvalid_0's auc: 0.884449\n",
      "Did not meet early stopping. Best iteration is:\n",
      "[1998]\tvalid_0's auc: 0.884455\n",
      "Training until validation scores don't improve for 100 rounds\n",
      "[100]\tvalid_0's auc: 0.833769\n",
      "[200]\tvalid_0's auc: 0.846347\n",
      "[300]\tvalid_0's auc: 0.853101\n",
      "[400]\tvalid_0's auc: 0.857665\n",
      "[500]\tvalid_0's auc: 0.860597\n",
      "[600]\tvalid_0's auc: 0.862923\n",
      "[700]\tvalid_0's auc: 0.865104\n",
      "[800]\tvalid_0's auc: 0.866974\n",
      "[900]\tvalid_0's auc: 0.868604\n",
      "[1000]\tvalid_0's auc: 0.869972\n",
      "[1100]\tvalid_0's auc: 0.871233\n",
      "[1200]\tvalid_0's auc: 0.872348\n",
      "[1300]\tvalid_0's auc: 0.873353\n",
      "[1400]\tvalid_0's auc: 0.874222\n",
      "[1500]\tvalid_0's auc: 0.875057\n",
      "[1600]\tvalid_0's auc: 0.875776\n",
      "[1700]\tvalid_0's auc: 0.876479\n",
      "[1800]\tvalid_0's auc: 0.877099\n",
      "[1900]\tvalid_0's auc: 0.8777\n",
      "[2000]\tvalid_0's auc: 0.878308\n",
      "Did not meet early stopping. Best iteration is:\n",
      "[2000]\tvalid_0's auc: 0.878308\n",
      "Training until validation scores don't improve for 100 rounds\n",
      "[100]\tvalid_0's auc: 0.836713\n",
      "[200]\tvalid_0's auc: 0.84766\n",
      "[300]\tvalid_0's auc: 0.853821\n",
      "[400]\tvalid_0's auc: 0.85831\n",
      "[500]\tvalid_0's auc: 0.861422\n",
      "[600]\tvalid_0's auc: 0.864108\n",
      "[700]\tvalid_0's auc: 0.866374\n",
      "[800]\tvalid_0's auc: 0.868329\n",
      "[900]\tvalid_0's auc: 0.869809\n",
      "[1000]\tvalid_0's auc: 0.871165\n",
      "[1100]\tvalid_0's auc: 0.872389\n",
      "[1200]\tvalid_0's auc: 0.873249\n",
      "[1300]\tvalid_0's auc: 0.874193\n",
      "[1400]\tvalid_0's auc: 0.874982\n",
      "[1500]\tvalid_0's auc: 0.875797\n",
      "[1600]\tvalid_0's auc: 0.876536\n",
      "[1700]\tvalid_0's auc: 0.877212\n",
      "[1800]\tvalid_0's auc: 0.877926\n",
      "[1900]\tvalid_0's auc: 0.878546\n",
      "[2000]\tvalid_0's auc: 0.879099\n",
      "Did not meet early stopping. Best iteration is:\n",
      "[2000]\tvalid_0's auc: 0.879099\n"
     ]
    },
    {
     "data": {
      "image/png": "[encoded data removed]",
      "text/plain": [
       "<Figure size 576x576 with 1 Axes>"
      ]
     },
     "metadata": {
      "needs_background": "light"
     },
     "output_type": "display_data"
    }
   ],
   "source": [
    "# Run classifier with cross-validation and plot ROC curves\n",
    "import numpy as np\n",
    "from scipy import interp\n",
    "from sklearn.metrics import roc_curve, auc\n",
    "\n",
    "params_u = {'max_depth': -1,\n",
    "              'random_state': 42,\n",
    "               'learning_rate':0.03,\n",
    "              'boosting_type': \"gbdt\",\n",
    "              'metric':'aucpr',\n",
    "              'max_bin': 255,\n",
    "                'num_leaves': 500,\n",
    "               'min_data_in_leaf':100, \n",
    "               'objective':'binary',\n",
    "                'colsample_bytree': 0.8,\n",
    "              'n_estimators': 2000,\n",
    "                'feature_fraction': 0.8,\n",
    "                #'is_unbalance ' : True,\n",
    "                'bagging_fraction':0.5,\n",
    "              'categorical_feature':['P_emaildomain', 'M1', 'M2', 'M3', 'M4', 'M5', 'M6', 'M7', 'M8', 'M9', 'card4','card6', 'ProductCD']\n",
    "\n",
    "                                            }\n",
    "cv = StratifiedKFold(n_splits=5, random_state= 42, shuffle= True)\n",
    "classifier_u = LGBMClassifier(**params)\n",
    "\n",
    "tprs = []\n",
    "aucs = []\n",
    "mean_fpr = np.linspace(0, 1, 100)\n",
    "plt.figure(figsize=(8, 8))\n",
    "\n",
    "\n",
    "i = 0\n",
    "for trn_idx, val_idx in cv.split(x_train_u, y_train_u):\n",
    "    x_trn_u, x_val_u = x_train_u.iloc[trn_idx, :], x_train_u.iloc[val_idx, :]\n",
    "    y_trn_u, y_val_u = y_train_u.iloc[trn_idx], y_train_u.iloc[val_idx]\n",
    "    model_u= classifier_u.fit(x_trn_u, y_trn_u, eval_set=[(x_val_u, y_val_u)], early_stopping_rounds = 100, verbose = 100)\n",
    "    u_probas_ = model_u.predict_proba(x_val_u)\n",
    "    # Compute ROC curve and area the curve\n",
    "    fpr, tpr, thresholds = roc_curve(y_val_u, u_probas_[:, 1])\n",
    "    tprs.append(interp(mean_fpr, fpr, tpr))\n",
    "    tprs[-1][0] = 0.0\n",
    "    roc_auc = auc(fpr, tpr)\n",
    "    aucs.append(roc_auc)\n",
    "    plt.plot(fpr, tpr, lw=1, alpha=0.3,\n",
    "             label='ROC fold %d (AUC = %0.2f)' % (i, roc_auc))\n",
    "\n",
    "    i += 1\n",
    "plt.plot([0, 1], [0, 1], linestyle='--', lw=2, color='r',\n",
    "         label='Chance', alpha=.8)\n",
    "\n",
    "mean_tpr = np.mean(tprs, axis=0)\n",
    "mean_tpr[-1] = 1.0\n",
    "mean_auc = auc(mean_fpr, mean_tpr)\n",
    "std_auc = np.std(aucs)\n",
    "plt.plot(mean_fpr, mean_tpr, color='b',\n",
    "         label=r'Mean ROC (AUC = %0.2f $\\pm$ %0.2f)' % (mean_auc, std_auc),\n",
    "         lw=2, alpha=.8)\n",
    "\n",
    "std_tpr = np.std(tprs, axis=0)\n",
    "tprs_upper = np.minimum(mean_tpr + std_tpr, 1)\n",
    "tprs_lower = np.maximum(mean_tpr - std_tpr, 0)\n",
    "plt.fill_between(mean_fpr, tprs_lower, tprs_upper, color='grey', alpha=.2,\n",
    "                 label=r'$\\pm$ 1 std. dev.')\n",
    "\n",
    "plt.xlim([-0.05, 1.05])\n",
    "plt.ylim([-0.05, 1.05])\n",
    "plt.xlabel('False Positive Rate')\n",
    "plt.ylabel('True Positive Rate')\n",
    "plt.title('Receiver operating characteristic_Random Undersampled')\n",
    "plt.legend(loc=\"lower right\")\n",
    "plt.show()"
   ]
  },
  {
   "cell_type": "code",
   "execution_count": 234,
   "metadata": {},
   "outputs": [
    {
     "name": "stdout",
     "output_type": "stream",
     "text": [
      "Best Iteration: 2000\n"
     ]
    }
   ],
   "source": [
    "\n",
    "#Extracting the best iteration\n",
    "#best_iteration = model.get_booster ().best_iteration\n",
    "print ('Best Iteration: {}'.format (model_u.best_iteration_))\n",
    "## model fit with the best parameters\n",
    "##best_model= clf_opt.fit(x_train, y_train)"
   ]
  },
  {
   "cell_type": "code",
   "execution_count": 235,
   "metadata": {},
   "outputs": [
    {
     "data": {
      "text/plain": [
       "array([0., 0., 0., 0., 0.])"
      ]
     },
     "execution_count": 235,
     "metadata": {},
     "output_type": "execute_result"
    }
   ],
   "source": [
    "# prediction\n",
    "preds_u = model_u.predict_proba(x_test, num_iteration= model_u.best_iteration_)[:, 1]\n",
    "#convert into binary values\n",
    "\n",
    "for i in range(0,len(y_test)):\n",
    "    if preds_u[i]>=.5:       # setting threshold to .5\n",
    "       preds_u[i]=1\n",
    "    else:  \n",
    "       preds_u[i]=0\n",
    "preds_u[0:5]  # showing first 5 prediction"
   ]
  },
  {
   "cell_type": "code",
   "execution_count": 236,
   "metadata": {},
   "outputs": [
    {
     "name": "stdout",
     "output_type": "stream",
     "text": [
      "[[94583 19392]\n",
      " [  904  3229]]\n",
      "              precision    recall  f1-score   support\n",
      "\n",
      "           0       0.99      0.83      0.90    113975\n",
      "           1       0.14      0.78      0.24      4133\n",
      "\n",
      "    accuracy                           0.83    118108\n",
      "   macro avg       0.57      0.81      0.57    118108\n",
      "weighted avg       0.96      0.83      0.88    118108\n",
      "\n",
      "ROC_AUC: 0.8055650540773927\n"
     ]
    }
   ],
   "source": [
    "#Printing the classification report\n",
    "from sklearn.metrics import classification_report, confusion_matrix\n",
    "print(confusion_matrix(y_test, preds_u))\n",
    "print(classification_report (y_test, preds_u))\n",
    "auc = roc_auc_score(y_test,preds_u)\n",
    "print(f'ROC_AUC: {auc}')"
   ]
  },
  {
   "cell_type": "code",
   "execution_count": 239,
   "metadata": {},
   "outputs": [
    {
     "name": "stdout",
     "output_type": "stream",
     "text": [
      "lgbm: f1=0.241 auc=0.466\n"
     ]
    },
    {
     "data": {
      "image/png": "[encoded data removed]",
      "text/plain": [
       "<Figure size 576x576 with 1 Axes>"
      ]
     },
     "metadata": {
      "needs_background": "light"
     },
     "output_type": "display_data"
    }
   ],
   "source": [
    "# calculate precision-recall curve\n",
    "from sklearn.metrics import f1_score, auc, roc_curve, roc_auc_score, accuracy_score, precision_recall_curve\n",
    "\n",
    "lgb_precision, lgb_recall, _ = precision_recall_curve(y_test, preds_u)\n",
    "lgb_f1, lgb_auc = f1_score(y_test, preds_u), auc(lgb_recall, lgb_precision)\n",
    "print('lgbm: f1=%.3f auc=%.3f' % (lgb_f1, lgb_auc))\n",
    "plt.figure(figsize=(8,8))\n",
    "plt.plot(lgb_recall, lgb_precision, marker='.', label='f1=%.3f auc=%.3f' % (lgb_f1, lgb_auc))\n",
    "# axis labels\n",
    "plt.xlabel('Recall')\n",
    "plt.ylabel('Precision')\n",
    "plt.title('PR_AUC_LightGBM_undersampled')\n",
    "# show the legend\n",
    "plt.legend()\n",
    "# show the plot\n",
    "plt.show()"
   ]
  },
  {
   "cell_type": "code",
   "execution_count": 242,
   "metadata": {},
   "outputs": [
    {
     "data": {
      "image/png": "[encoded data removed]",
      "text/plain": [
       "<Figure size 576x576 with 1 Axes>"
      ]
     },
     "metadata": {
      "needs_background": "light"
     },
     "output_type": "display_data"
    }
   ],
   "source": [
    "# calculate and print the roc curve\n",
    "lgb_fpr, lgb_tpr, _ = roc_curve(y_test, preds_u)\n",
    "lgbm_auc = auc(lgb_fpr, lgb_tpr)\n",
    "plt.figure(figsize= (8,8))\n",
    "plt.plot(lgb_fpr, lgb_tpr, linestyle='--', label= 'AUC=%.3f' % (lgbm_auc))\n",
    "plt.title ('LightGBM_AUC_undersampled')\n",
    "plt.xlabel('False Positive Rate')\n",
    "plt.ylabel('True Positive Rate')\n",
    "plt.legend()\n",
    "plt.show()"
   ]
  },
  {
   "cell_type": "code",
   "execution_count": 246,
   "metadata": {},
   "outputs": [
    {
     "data": {
      "image/png": "[encoded data removed]",
      "text/plain": [
       "<Figure size 1440x720 with 1 Axes>"
      ]
     },
     "metadata": {
      "needs_background": "light"
     },
     "output_type": "display_data"
    }
   ],
   "source": [
    "import seaborn as sns\n",
    "cols = list( x_train.columns )\n",
    "feature_imp = pd.DataFrame(sorted(zip(model_u.feature_importances_,cols)), columns=['Value','Feature'])\n",
    "plt.figure(figsize=(20, 10))\n",
    "b=sns.barplot(x=\"Value\", y=\"Feature\", data=feature_imp.sort_values(by=\"Value\", ascending=False).iloc[:20])\n",
    "b.set_xlabel(\"Value\",fontsize=30)\n",
    "b.set_ylabel(\"Feature\",fontsize=30)\n",
    "b.tick_params(labelsize=18)\n",
    "plt.title('LGBM 20 Most Important', fontsize= 30)\n",
    "plt.tight_layout()\n",
    "plt.show()"
   ]
  },
  {
   "cell_type": "markdown",
   "metadata": {},
   "source": [
    "## Bayesian Optimization for Lgbm"
   ]
  },
  {
   "cell_type": "code",
   "execution_count": 25,
   "metadata": {},
   "outputs": [
    {
     "name": "stdout",
     "output_type": "stream",
     "text": [
      "|   iter    |  target   | baggin... | colsam... | featur... | learni... | max_depth | n_esti... | num_le... |\n",
      "-------------------------------------------------------------------------------------------------------------\n",
      "| \u001b[0m 1       \u001b[0m | \u001b[0m-0.9794  \u001b[0m | \u001b[0m 0.454   \u001b[0m | \u001b[0m 0.6417  \u001b[0m | \u001b[0m 0.7939  \u001b[0m | \u001b[0m 0.1115  \u001b[0m | \u001b[0m 6.701   \u001b[0m | \u001b[0m 127.7   \u001b[0m | \u001b[0m 70.19   \u001b[0m |\n",
      "| \u001b[0m 2       \u001b[0m | \u001b[0m-0.9794  \u001b[0m | \u001b[0m 0.8946  \u001b[0m | \u001b[0m 0.5562  \u001b[0m | \u001b[0m 0.1561  \u001b[0m | \u001b[0m 0.1203  \u001b[0m | \u001b[0m 5.015   \u001b[0m | \u001b[0m 547.5   \u001b[0m | \u001b[0m 53.64   \u001b[0m |\n",
      "| \u001b[0m 3       \u001b[0m | \u001b[0m-0.9794  \u001b[0m | \u001b[0m 0.8183  \u001b[0m | \u001b[0m 0.4116  \u001b[0m | \u001b[0m 0.1763  \u001b[0m | \u001b[0m 0.2443  \u001b[0m | \u001b[0m 9.194   \u001b[0m | \u001b[0m 598.9   \u001b[0m | \u001b[0m 99.62   \u001b[0m |\n",
      "=============================================================================================================\n"
     ]
    }
   ],
   "source": [
    "#import lightgbm as lgb\n",
    "from bayes_opt import BayesianOptimization\n",
    "from sklearn.model_selection import train_test_split, StratifiedKFold, cross_val_score\n",
    "from lightgbm import LGBMClassifier\n",
    "from sklearn.metrics import make_scorer\n",
    "def tune_lgb(max_depth, learning_rate, num_leaves, feature_fraction, bagging_fraction, colsample_bytree, n_estimators):\n",
    "    params = {'max_depth': 6,\n",
    "              'random_state': 42,\n",
    "               'learning_rate':0.05,\n",
    "              'boosting_type': \"gbdt\",\n",
    "              'metric':'auc',\n",
    "                'num_leaves': 31,\n",
    "               'objective':'binary',\n",
    "                'colsample_bytree': 0.8,\n",
    "              'n_estimators': 300,\n",
    "                'feature_fraction': 0.5,\n",
    "                'bagging_fraction':0.5,\n",
    "              'categorical_feature':['P_emaildomain', 'M1', 'M2', 'M3', 'M4', 'M5', 'M6', 'M7', 'M8', 'M9', 'card4','card6', 'ProductCD']\n",
    "\n",
    "                                            }\n",
    "\n",
    "    clff = LGBMClassifier(**params)\n",
    "    score = cross_val_score(clff, x_train, y_train, cv=5).mean()\n",
    "    return -score\n",
    "#Bayesian Optimizer with the specified parameters to tune\n",
    "lgb_optimizer = BayesianOptimization(tune_lgb, {'num_leaves': (30, 100), \n",
    "                                                   'n_estimators': (100, 600),\n",
    "                                                   'bagging_fraction' : (0.1, 0.9),\n",
    "                                                   'feature_fraction' : (0.1, 0.9),\n",
    "                                                   'learning_rate': (0.01, 0.3),\n",
    "                                                   'colsample_bytree': (0.3,0.9),\n",
    "                                                   'max_depth':(3,12)})\n",
    "#performing Bayesian optimization for 5 iterations with 3 steps of random exploration with an #acquisition function of expected improvement\n",
    "lgb_optimizer.maximize(n_iter=5, init_points=1, acq='ei')"
   ]
  },
  {
   "cell_type": "code",
   "execution_count": 26,
   "metadata": {},
   "outputs": [
    {
     "name": "stdout",
     "output_type": "stream",
     "text": [
      "{'bagging_fraction': 0.4539575186148377, 'colsample_bytree': 0.6417311609647954, 'feature_fraction': 0.7938745015620546, 'learning_rate': 0.11151768509533413, 'max_depth': 6.701489217201758, 'n_estimators': 127.66093487568644, 'num_leaves': 70.1914131893001}\n"
     ]
    }
   ],
   "source": [
    "#Extracting the best parameters\n",
    "best_params = lgb_optimizer.max['params']\n",
    "print(best_params)\n",
    "#Converting the max_depth and n_estimator values from float to int\n",
    "best_params['max_depth']= int(best_params['max_depth'])\n",
    "best_params['num_leaves']= int(best_params['num_leaves'])\n",
    "best_params['n_estimators']= int(best_params['n_estimators'])\n"
   ]
  },
  {
   "cell_type": "code",
   "execution_count": null,
   "metadata": {},
   "outputs": [],
   "source": []
  }
 ],
 "metadata": {
  "kernelspec": {
   "display_name": "Python 3",
   "language": "python",
   "name": "python3"
  },
  "language_info": {
   "codemirror_mode": {
    "name": "ipython",
    "version": 3
   },
   "file_extension": ".py",
   "mimetype": "text/x-python",
   "name": "python",
   "nbconvert_exporter": "python",
   "pygments_lexer": "ipython3",
   "version": "3.7.3"
  }
 },
 "nbformat": 4,
 "nbformat_minor": 2
}
